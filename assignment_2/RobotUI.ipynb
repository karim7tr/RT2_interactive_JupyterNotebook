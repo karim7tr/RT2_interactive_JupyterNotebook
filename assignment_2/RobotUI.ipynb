{
 "cells": [
  {
   "cell_type": "markdown",
   "id": "845022cd",
   "metadata": {},
   "source": [
    "## Importing Necessary Libraries\n",
    "\n",
    "The provided code snippet begins by importing essential libraries and modules required for building an interactive user interface within the Jupyter Notebook. These imports encompass a range of functionalities, including communication with ROS through `rospy`, representation of robot data using message types like `Point` and `Odometry`, simulation of sensor data with `LaserScan`, integration of interactive widgets through `ipywidgets`, content display using `IPython.display`, and support for mathematical operations with the `math` library. These imports collectively establish the groundwork for creating a dynamic and engaging user interface that facilitates user interaction and data visualization."
   ]
  },
  {
   "cell_type": "code",
   "execution_count": null,
   "id": "d1c15616",
   "metadata": {
    "scrolled": false
   },
   "outputs": [],
   "source": [
    "# Importing necessary libraries\n",
    "import rospy\n",
    "from geometry_msgs.msg import Point\n",
    "from nav_msgs.msg import Odometry\n",
    "from sensor_msgs.msg import LaserScan\n",
    "from ipywidgets import interact, interactive, fixed, interact_manual\n",
    "import ipywidgets as widgets\n",
    "from IPython.display import display\n",
    "import math\n"
   ]
  },
  {
   "cell_type": "markdown",
   "id": "202fa37b",
   "metadata": {},
   "source": [
    "**Explanation of RobotUI Class: Graphical User Interface for Robot Interaction**\n",
    "\n",
    "The provided code snippet introduces a Python class named `RobotUI` that serves as the foundation for a graphical user interface (GUI) designed to interact with various aspects of a robot's behavior. This GUI encompasses functionalities related to the robot's position, manipulation of target positions, and the presentation of obstacle distances. In the constructor method (`__init__()`), the class initializes attributes responsible for storing the robot's current position, managing different categories of target positions (both those that are set and those that are cancelled), and keeping track of the closest detected obstacle distance.\n",
    "\n",
    "To facilitate interaction with the robot and environment, the class subscribes to specific ROS (Robot Operating System) topics, including '/odom' for odometry data and '/scan' for laser scan information. Leveraging the `ipywidgets` library, the class creates widgets that convey crucial data to the user. These widgets include labels for displaying the robot's position, presenting information about target positions, and indicating the distance to the closest obstacle. When an instance of `RobotUI` is instantiated, the graphical elements are displayed within the Jupyter Notebook interface, enhancing user-friendliness and enabling seamless interaction with the robot's state and surroundings."
   ]
  },
  {
   "cell_type": "code",
   "execution_count": null,
   "id": "2f736fdb",
   "metadata": {},
   "outputs": [],
   "source": [
    "# Defining the RobotUI class\n",
    "class RobotUI:\n",
    "    def __init__(self):\n",
    "        \"\"\"\n",
    "        Initializes the RobotUI class.\n",
    "        \n",
    "        This class provides a graphical user interface to interact with a robot's position,\n",
    "        set and cancel targets, and display obstacle distances.\n",
    "        \"\"\"\n",
    "        # Initialize ROS node\n",
    "        rospy.init_node('robot_ui')\n",
    "        \n",
    "        # Initialize attributes to store robot's state\n",
    "        self.robot_position = Point()\n",
    "        self.targets = {'set': [], 'cancelled': []}\n",
    "        self.closest_obstacle_distance = 0\n",
    "        \n",
    "        # Subscribing to ROS topics for odometry and laser scan data\n",
    "        self.sub_odom = rospy.Subscriber('/odom', Odometry, self.odom_callback)\n",
    "        self.sub_scan = rospy.Subscriber('/scan', LaserScan, self.scan_callback)\n",
    "        \n",
    "        # Creating widgets to display information\n",
    "        self.robot_position_widget = widgets.Label(value=\"Robot Position: (x, y)\")\n",
    "        self.targets_widget = widgets.Label(value=\"Targets: Set - [], Cancelled - []\")\n",
    "        self.closest_obstacle_widget = widgets.Label(value=\"Closest Obstacle Distance: 0\")\n",
    "        \n",
    "        # Displaying widgets\n",
    "        display(self.robot_position_widget, self.targets_widget, self.closest_obstacle_widget)\n"
   ]
  },
  {
   "cell_type": "markdown",
   "id": "882da596",
   "metadata": {},
   "source": [
    "# Interactive Robot Motion Planning Interface with Jupyter Notebook\n",
    "\n",
    "In this code implementation, we create an interactive user interface using Jupyter Notebook to facilitate motion planning for a robot in a simulated environment, based on the ResearchTrack 1 Assignment #2. The interface offers users the ability to control the robot's motion, set and cancel target positions, visualize the robot's trajectory and target positions, monitor obstacle distances, and gain insights into the success and failure of goal achievements. Leveraging the power of IPython widgets, ROS (Robot Operating System) integration, and data visualization techniques, this interactive interface enhances the user's ability to intuitively interact with the robot's motion planning process. Through the use of interactive sliders and dynamic visualizations, users can efficiently set, cancel, and track goals, contributing to a more seamless and engaging motion planning experience aligned with the objectives of ResearchTrack 1 Assignment #2."
   ]
  },
  {
   "cell_type": "markdown",
   "id": "43e90fbc",
   "metadata": {},
   "source": [
    "## Callback Functions for Robot Position and Obstacle Distance Updates\n",
    "\n",
    "The provided code snippet defines two callback functions within the `RobotUI` class: `odom_callback()` and `scan_callback()`. These functions respond to incoming ROS messages of type Odometry and LaserScan, respectively. The `odom_callback()` function processes Odometry messages to extract the robot's current position from the received message and subsequently invokes the `update_widgets()` method to refresh the user interface widgets. Similarly, the `scan_callback()` function handles LaserScan messages, extracting the minimum distance to the closest obstacle from the message and then updating the `closest_obstacle_distance` attribute. Once again, the `update_widgets()` method is called to ensure that the user interface reflects the updated data. These callback functions play a vital role in maintaining the real-time interaction between the robot's state and the graphical user interface, enhancing the user's understanding of the robot's surroundings.\n",
    "\n"
   ]
  },
  {
   "cell_type": "code",
   "execution_count": null,
   "id": "a3d838d1",
   "metadata": {},
   "outputs": [],
   "source": [
    "def odom_callback(self, msg):\n",
    "    \"\"\"\n",
    "    Callback function for Odometry messages.\n",
    "    \n",
    "    Updates the robot's position based on the received message and updates the widgets.\n",
    "    \n",
    "    :param msg: The received Odometry message.\n",
    "    \"\"\"\n",
    "    self.robot_position = msg.pose.pose.position\n",
    "    self.update_widgets()\n",
    "    \n",
    "def scan_callback(self, msg):\n",
    "    \"\"\"\n",
    "    Callback function for LaserScan messages.\n",
    "    \n",
    "    Updates the closest_obstacle_distance based on the received LaserScan message\n",
    "    and updates the widgets.\n",
    "    \n",
    "    :param msg: The received LaserScan message.\n",
    "    \"\"\"\n",
    "    self.closest_obstacle_distance = min(msg.ranges)\n",
    "    self.update_widgets()"
   ]
  },
  {
   "cell_type": "markdown",
   "id": "5bd36fd6",
   "metadata": {},
   "source": [
    "## Updating User Interface Widgets\n",
    "\n",
    "The provided code snippet contains the `update_widgets()` method within the `RobotUI` class. This method is responsible for dynamically updating the widget values on the user interface based on the current state of the robot. The `update_widgets()` function accomplishes this by formatting and setting the values of three distinct widgets: \n",
    "\n",
    "1. `robot_position_widget`: This widget displays the current position of the robot using the formatted string \"Robot Position: (x, y)\".\n",
    "2. `targets_widget`: This widget shows the list of targets that have been set and cancelled, following the format \"Targets: Set - [target1, target2, ...], Cancelled - [target1, target2, ...]\".\n",
    "3. `closest_obstacle_widget`: This widget displays the distance to the closest obstacle using the formatted string \"Closest Obstacle Distance: distance_value\".\n",
    "\n",
    "By invoking the `update_widgets()` method, the graphical user interface is efficiently updated to provide real-time information to the user, ensuring an accurate representation of the robot's position, target history, and obstacle distance.\n"
   ]
  },
  {
   "cell_type": "code",
   "execution_count": null,
   "id": "e2b446ab",
   "metadata": {},
   "outputs": [],
   "source": [
    "def update_widgets(self):\n",
    "    \"\"\"\n",
    "    Updates the widget values based on the current robot's position, targets, and obstacle distance.\n",
    "    \"\"\"\n",
    "    self.robot_position_widget.value = \"Robot Position: ({:.2f}, {:.2f})\".format(self.robot_position.x, self.robot_position.y)\n",
    "    self.targets_widget.value = \"Targets: Set - {}, Cancelled - {}\".format(self.targets['set'], self.targets['cancelled'])\n",
    "    self.closest_obstacle_widget.value = \"Closest Obstacle Distance: {:.2f}\".format(self.closest_obstacle_distance)"
   ]
  },
  {
   "cell_type": "markdown",
   "id": "01c8561c",
   "metadata": {},
   "source": [
    "## Managing Robot Targets\n",
    "\n",
    "The provided code segment contains two methods, `set_target()` and `cancel_target()`, which are part of the `RobotUI` class. These methods facilitate the management of robot targets within the graphical user interface.\n",
    "\n",
    "1. `set_target(self, x, y)`: This method allows the user to set a target for the robot by providing the desired `x` and `y` coordinates. The method appends the specified target coordinates `(x, y)` to the 'set' list of targets. Following this, the `update_widgets()` function is called to ensure that the user interface reflects the updated target list.\n",
    "\n",
    "2. `cancel_target(self, x, y)`: This method enables the user to cancel a previously set target by providing the `x` and `y` coordinates of the target to be cancelled. The method appends the coordinates `(x, y)` to the 'cancelled' list of targets. Similar to `set_target()`, the `update_widgets()` function is invoked to dynamically update the user interface with the revised target information.\n",
    "\n",
    "Together, these methods provide an intuitive means for users to interact with and manage the robot's target positions in the graphical interface."
   ]
  },
  {
   "cell_type": "code",
   "execution_count": null,
   "id": "f08c5fe2",
   "metadata": {},
   "outputs": [],
   "source": [
    "def set_target(self, x, y):\n",
    "    \"\"\"\n",
    "    Sets a target for the robot.\n",
    "    \n",
    "    :param x: The x-coordinate of the target.\n",
    "    :param y: The y-coordinate of the target.\n",
    "    \"\"\"\n",
    "    self.targets['set'].append((x, y))\n",
    "    self.update_widgets()\n",
    "\n",
    "def cancel_target(self, x, y):\n",
    "    \"\"\"\n",
    "    Cancels a previously set target.\n",
    "    \n",
    "    :param x: The x-coordinate of the target to cancel.\n",
    "    :param y: The y-coordinate of the target to cancel.\n",
    "    \"\"\"\n",
    "    self.targets['cancelled'].append((x, y))\n",
    "    self.update_widgets()"
   ]
  },
  {
   "cell_type": "markdown",
   "id": "ef24822a",
   "metadata": {},
   "source": [
    "## Managing Robot Targets\n",
    "\n",
    "The provided code segment contains two methods, `set_target()` and `cancel_target()`, which are part of the `RobotUI` class. These methods facilitate the management of robot targets within the graphical user interface.\n",
    "\n",
    "1. `set_target(self, x, y)`: This method allows the user to set a target for the robot by providing the desired `x` and `y` coordinates. The method appends the specified target coordinates `(x, y)` to the 'set' list of targets. Following this, the `update_widgets()` function is called to ensure that the user interface reflects the updated target list.\n",
    "\n",
    "2. `cancel_target(self, x, y)`: This method enables the user to cancel a previously set target by providing the `x` and `y` coordinates of the target to be cancelled. The method appends the coordinates `(x, y)` to the 'cancelled' list of targets. Similar to `set_target()`, the `update_widgets()` function is invoked to dynamically update the user interface with the revised target information.\n",
    "\n",
    "Together, these methods provide an intuitive means for users to interact with and manage the robot's target positions in the graphical interface."
   ]
  },
  {
   "cell_type": "code",
   "execution_count": null,
   "id": "daa9483a",
   "metadata": {},
   "outputs": [],
   "source": [
    "def set_target(self, x, y):\n",
    "    \"\"\"\n",
    "    Sets a target for the robot.\n",
    "    \n",
    "    :param x: The x-coordinate of the target.\n",
    "    :param y: The y-coordinate of the target.\n",
    "    \"\"\"\n",
    "    self.targets['set'].append((x, y))\n",
    "    self.update_widgets()\n",
    "\n",
    "def cancel_target(self, x, y):\n",
    "    \"\"\"\n",
    "    Cancels a previously set target.\n",
    "    \n",
    "    :param x: The x-coordinate of the target to cancel.\n",
    "    :param y: The y-coordinate of the target to cancel.\n",
    "    \"\"\"\n",
    "    self.targets['cancelled'].append((x, y))\n",
    "    self.update_widgets()"
   ]
  },
  {
   "cell_type": "markdown",
   "id": "8cbabe32",
   "metadata": {},
   "source": [
    "## User Interaction with Targets\n",
    "\n",
    "The provided code snippet involves creating an instance of the `RobotUI` class, named `ui`, which serves as the graphical user interface for interacting with the robot's targets. This instance is used to manage and display information related to the robot's position, set and cancelled targets, and obstacle distances.\n",
    "\n",
    "Additionally, interactive sliders are generated to allow users to conveniently set and cancel targets using the `set_target()` and `cancel_target()` methods of the `RobotUI` class. The sliders provide intuitive controls for specifying target coordinates by adjusting the `x` and `y` values. The `interact()` function from the `ipywidgets` library facilitates the creation of these interactive sliders."
   ]
  },
  {
   "cell_type": "code",
   "execution_count": null,
   "id": "0ca05ba1",
   "metadata": {},
   "outputs": [],
   "source": [
    "# Creating an instance of the RobotUI class\n",
    "ui = RobotUI()\n",
    "\n",
    "# Creating interactive sliders to set and cancel targets\n",
    "interact(ui.set_target, x=widgets.FloatSlider(min=-10, max=10, step=0.1, value=0), y=widgets.FloatSlider(min=-10, max=10, step=0.1, value=0));\n",
    "interact(ui.cancel_target, x=widgets.FloatSlider(min=-10, max=10, step=0.1, value=0), y=widgets.FloatSlider(min=-10, max=10, step=0.1, value=0));"
   ]
  },
  {
   "cell_type": "markdown",
   "id": "31a94515",
   "metadata": {},
   "source": [
    "Together, these components establish an interactive environment where users can conveniently manage and manipulate the robot's target positions through graphical sliders, enhancing the user experience and enabling seamless interaction with the robot's motion planning.\n",
    "\n",
    "\n",
    "\n",
    "\n"
   ]
  }
 ],
 "metadata": {
  "kernelspec": {
   "display_name": "Python 3 (ipykernel)",
   "language": "python",
   "name": "python3"
  },
  "language_info": {
   "codemirror_mode": {
    "name": "ipython",
    "version": 3
   },
   "file_extension": ".py",
   "mimetype": "text/x-python",
   "name": "python",
   "nbconvert_exporter": "python",
   "pygments_lexer": "ipython3",
   "version": "3.10.12"
  }
 },
 "nbformat": 4,
 "nbformat_minor": 5
}
